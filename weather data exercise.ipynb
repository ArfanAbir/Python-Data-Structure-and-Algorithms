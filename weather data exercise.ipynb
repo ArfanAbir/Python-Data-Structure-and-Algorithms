{
 "cells": [
  {
   "cell_type": "code",
   "execution_count": 1,
   "id": "43fd0a9e",
   "metadata": {},
   "outputs": [
    {
     "name": "stdout",
     "output_type": "stream",
     "text": [
      "Invalid Temperature. Ignore the row\n"
     ]
    }
   ],
   "source": [
    "arr = []\n",
    "with open(\"nyc_weather.csv\", \"r\") as f:\n",
    "    for line in f:\n",
    "        tokens = line.split(',')\n",
    "        try:\n",
    "            temperature = int(tokens[1])\n",
    "            arr.append(temperature)\n",
    "        except:\n",
    "            print(\"Invalid Temperature. Ignore the row\")"
   ]
  },
  {
   "cell_type": "code",
   "execution_count": 2,
   "id": "e4d8e04e",
   "metadata": {},
   "outputs": [
    {
     "data": {
      "text/plain": [
       "[27, 31, 23, 34, 37, 38, 29, 30, 35, 30]"
      ]
     },
     "execution_count": 2,
     "metadata": {},
     "output_type": "execute_result"
    }
   ],
   "source": [
    "arr"
   ]
  },
  {
   "cell_type": "markdown",
   "id": "54123cc2",
   "metadata": {},
   "source": [
    "# What was the average temperature in the first weeek of Jan?\n"
   ]
  },
  {
   "cell_type": "code",
   "execution_count": 10,
   "id": "c513e1c0",
   "metadata": {},
   "outputs": [
    {
     "data": {
      "text/plain": [
       "31.285714285714285"
      ]
     },
     "execution_count": 10,
     "metadata": {},
     "output_type": "execute_result"
    }
   ],
   "source": [
    "sum(arr[:7])/len(arr[:7])"
   ]
  },
  {
   "cell_type": "markdown",
   "id": "a096b353",
   "metadata": {},
   "source": [
    "# what was the maximum temperature in first 10 days of Jan?"
   ]
  },
  {
   "cell_type": "code",
   "execution_count": 11,
   "id": "1e43f0d5",
   "metadata": {},
   "outputs": [
    {
     "data": {
      "text/plain": [
       "38"
      ]
     },
     "execution_count": 11,
     "metadata": {},
     "output_type": "execute_result"
    }
   ],
   "source": [
    "max(arr[:10])"
   ]
  },
  {
   "cell_type": "code",
   "execution_count": 12,
   "id": "9f077dcb",
   "metadata": {},
   "outputs": [
    {
     "name": "stdout",
     "output_type": "stream",
     "text": [
      "Invalid Temperature. Ignore the row\n"
     ]
    }
   ],
   "source": [
    "weather_dict = {}\n",
    "with open(\"nyc_weather.csv\", \"r\") as f:\n",
    "    for line in f:\n",
    "        tokens = line.split(',')\n",
    "        day = tokens[0]\n",
    "        try:\n",
    "            temperature = int(tokens[1])\n",
    "            weather_dict[day] = temperature\n",
    "        except:\n",
    "            print(\"Invalid Temperature. Ignore the row\")"
   ]
  },
  {
   "cell_type": "code",
   "execution_count": 13,
   "id": "70c0cb96",
   "metadata": {},
   "outputs": [
    {
     "data": {
      "text/plain": [
       "{'Jan 1': 27,\n",
       " 'Jan 2': 31,\n",
       " 'Jan 3': 23,\n",
       " 'Jan 4': 34,\n",
       " 'Jan 5': 37,\n",
       " 'Jan 6': 38,\n",
       " 'Jan 7': 29,\n",
       " 'Jan 8': 30,\n",
       " 'Jan 9': 35,\n",
       " 'Jan 10': 30}"
      ]
     },
     "execution_count": 13,
     "metadata": {},
     "output_type": "execute_result"
    }
   ],
   "source": [
    "weather_dict"
   ]
  },
  {
   "cell_type": "markdown",
   "id": "c6997d77",
   "metadata": {},
   "source": [
    "# What was the Temperature on Jan 9?"
   ]
  },
  {
   "cell_type": "code",
   "execution_count": 14,
   "id": "1a06d760",
   "metadata": {},
   "outputs": [
    {
     "data": {
      "text/plain": [
       "35"
      ]
     },
     "execution_count": 14,
     "metadata": {},
     "output_type": "execute_result"
    }
   ],
   "source": [
    "weather_dict['Jan 9']"
   ]
  },
  {
   "cell_type": "markdown",
   "id": "0aea6fdd",
   "metadata": {},
   "source": [
    "# What was the Temperature on Jan 4?"
   ]
  },
  {
   "cell_type": "code",
   "execution_count": 15,
   "id": "f5711b8e",
   "metadata": {},
   "outputs": [
    {
     "data": {
      "text/plain": [
       "34"
      ]
     },
     "execution_count": 15,
     "metadata": {},
     "output_type": "execute_result"
    }
   ],
   "source": [
    "weather_dict['Jan 4']"
   ]
  },
  {
   "cell_type": "code",
   "execution_count": null,
   "id": "881aa5c5",
   "metadata": {},
   "outputs": [],
   "source": []
  }
 ],
 "metadata": {
  "kernelspec": {
   "display_name": "Python 3 (ipykernel)",
   "language": "python",
   "name": "python3"
  },
  "language_info": {
   "codemirror_mode": {
    "name": "ipython",
    "version": 3
   },
   "file_extension": ".py",
   "mimetype": "text/x-python",
   "name": "python",
   "nbconvert_exporter": "python",
   "pygments_lexer": "ipython3",
   "version": "3.10.9"
  }
 },
 "nbformat": 4,
 "nbformat_minor": 5
}
